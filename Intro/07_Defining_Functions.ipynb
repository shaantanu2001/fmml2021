{
  "nbformat": 4,
  "nbformat_minor": 0,
  "metadata": {
    "colab": {
      "name": "07_Defining_Functions.ipynb",
      "provenance": [],
      "include_colab_link": true
    },
    "kernelspec": {
      "name": "python3",
      "display_name": "Python 3"
    },
    "language_info": {
      "name": "python"
    }
  },
  "cells": [
    {
      "cell_type": "markdown",
      "metadata": {
        "id": "view-in-github",
        "colab_type": "text"
      },
      "source": [
        "<a href=\"https://colab.research.google.com/github/shaantanu2001/fmml2021/blob/main/Intro/07_Defining_Functions.ipynb\" target=\"_parent\"><img src=\"https://colab.research.google.com/assets/colab-badge.svg\" alt=\"Open In Colab\"/></a>"
      ]
    },
    {
      "cell_type": "code",
      "metadata": {
        "id": "1pqsgNqwnbHE"
      },
      "source": [
        "def inList (my_char, my_list=['a','e','i','o','u']):\n",
        "  \"\"\" this is a function to check whether a char is vowel or not \"\"\"\n",
        "  for each_char in my_list:\n",
        "    if each_char == my_char.lower():\n",
        "      return True\n",
        "  return False"
      ],
      "execution_count": null,
      "outputs": []
    },
    {
      "cell_type": "code",
      "metadata": {
        "id": "SLpNGCWYn6Er"
      },
      "source": [
        "inList('Z', ['x', 'y', 'z'])"
      ],
      "execution_count": null,
      "outputs": []
    },
    {
      "cell_type": "code",
      "metadata": {
        "id": "r_KUNOW3rCc6",
        "colab": {
          "base_uri": "https://localhost:8080/"
        },
        "outputId": "45b47cee-00d9-4fec-f270-d8721493013c"
      },
      "source": [
        "# Write a function to check whether a given number belongs to fibonacci series or not\n",
        "def fibonacci():\n",
        "  a = 0\n",
        "  b = 1\n",
        "  n = int(input(\"Of how many numbers you want the fibonacci series: \"))\n",
        "  l = []\n",
        "  for _ in range(n):\n",
        "    l.append(a)\n",
        "    c = a + b\n",
        "    a = b\n",
        "    b = c\n",
        "  print(l)\n",
        "  x = int(input(\"\\nEnter the number you want to check in the fibonacci series: \"))\n",
        "  if x in l:\n",
        "    print(\"The number belongs to the fibonacci series..\")\n",
        "  else:\n",
        "    print(\"The number doesn't belong to the series..\")\n",
        "    print(\"\\nDo you want to check for any other number..\")\n",
        "    ans = input(\"To continue press y, and if u want to quit press n: \")\n",
        "    ans = ans.lower()\n",
        "    if (ans == 'y'):\n",
        "      fibonacci()\n",
        "    \n",
        "\n",
        "fibonacci()\n"
      ],
      "execution_count": null,
      "outputs": [
        {
          "output_type": "stream",
          "name": "stdout",
          "text": [
            "Of how many numbers you want the fibonacci series: 10\n",
            "[0, 1, 1, 2, 3, 5, 8, 13, 21, 34]\n",
            "\n",
            "Enter the number you want to check in the fibonacci series: 6\n",
            "The number doesn't belong to the series..\n",
            "\n",
            "Do you want to check for any other number..\n",
            "To continue press y, and if u want to quit press n: Y\n",
            "Of how many numbers you want the fibonacci series: 10\n",
            "[0, 1, 1, 2, 3, 5, 8, 13, 21, 34]\n",
            "\n",
            "Enter the number you want to check in the fibonacci series: 21\n",
            "The number belongs to the fibonacci series..\n"
          ]
        }
      ]
    },
    {
      "cell_type": "markdown",
      "metadata": {
        "id": "3hfExC9BPkKK"
      },
      "source": [
        "Reference: [Python Documentation on Functions](https://docs.python.org/3/tutorial/controlflow.html#defining-functions)"
      ]
    }
  ]
}